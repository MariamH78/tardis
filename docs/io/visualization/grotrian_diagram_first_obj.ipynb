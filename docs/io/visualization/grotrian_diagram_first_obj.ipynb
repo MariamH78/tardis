{
 "cells": [
  {
   "cell_type": "markdown",
   "id": "5ff19764",
   "metadata": {},
   "source": [
    "# Grotrian Diagram first objective  \n",
    "\n",
    "### The goal is to plot the fraction of neutral silicon as well as singly-ionized silicon against velocity.\n",
    "\n",
    "First, we run the simulation to get the tardis simulation object, which we'll use in plotting later."
   ]
  },
  {
   "cell_type": "code",
   "execution_count": 2,
   "id": "90ead7c6",
   "metadata": {},
   "outputs": [
    {
     "data": {
      "application/vnd.jupyter.widget-view+json": {
       "model_id": "",
       "version_major": 2,
       "version_minor": 0
      },
      "text/plain": [
       "Iterations:          0/? [00:00<?, ?it/s]"
      ]
     },
     "metadata": {},
     "output_type": "display_data"
    },
    {
     "data": {
      "application/vnd.jupyter.widget-view+json": {
       "model_id": "",
       "version_major": 2,
       "version_minor": 0
      },
      "text/plain": [
       "Packets:             0/? [00:00<?, ?it/s]"
      ]
     },
     "metadata": {},
     "output_type": "display_data"
    }
   ],
   "source": [
    "from tardis import run_tardis\n",
    "from tardis.io.config_reader import Configuration\n",
    "from tardis.io.atom_data.util import download_atom_data\n",
    "\n",
    "# We download the atomic data needed to run the simulation\n",
    "download_atom_data('kurucz_cd23_chianti_H_He')\n",
    "\n",
    "config = Configuration.from_yaml(\"tardis_example.yml\")"
   ]
  },
  {
   "cell_type": "code",
   "execution_count": 3,
   "id": "ca87ba3f",
   "metadata": {
    "collapsed": true
   },
   "outputs": [
    {
     "name": "stdout",
     "output_type": "stream",
     "text": [
      "[\u001b[1mpy.warnings         \u001b[0m][\u001b[1;33mWARNING\u001b[0m]  \n",
      "\t/home/mariam/tardis/tardis/plasma/properties/radiative_properties.py:93: RuntimeWarning: invalid value encountered in true_divide\n",
      "  (g_lower * n_upper) / (g_upper * n_lower)\n",
      " (\u001b[1mwarnings.py\u001b[0m:109)\n",
      "[\u001b[1mpy.warnings         \u001b[0m][\u001b[1;33mWARNING\u001b[0m]  \n",
      "\t/home/mariam/tardis/tardis/plasma/properties/radiative_properties.py:93: RuntimeWarning: invalid value encountered in true_divide\n",
      "  (g_lower * n_upper) / (g_upper * n_lower)\n",
      " (\u001b[1mwarnings.py\u001b[0m:109)\n",
      "[\u001b[1mpy.warnings         \u001b[0m][\u001b[1;33mWARNING\u001b[0m]  \n",
      "\t/home/mariam/tardis/tardis/plasma/properties/radiative_properties.py:93: RuntimeWarning: invalid value encountered in true_divide\n",
      "  (g_lower * n_upper) / (g_upper * n_lower)\n",
      " (\u001b[1mwarnings.py\u001b[0m:109)\n"
     ]
    }
   ],
   "source": [
    "sim = run_tardis(config, show_progress_bars=False,\n",
    "                 show_cplots=False, log_level=\"Error\", specific_log_level=True)"
   ]
  },
  {
   "cell_type": "markdown",
   "id": "1253cf4e",
   "metadata": {},
   "source": [
    "To start, we import the files we need."
   ]
  },
  {
   "cell_type": "code",
   "execution_count": 4,
   "id": "383274c6",
   "metadata": {},
   "outputs": [],
   "source": [
    "from tardis.visualization import GrotrianDiagram"
   ]
  },
  {
   "cell_type": "markdown",
   "id": "91047b05",
   "metadata": {},
   "source": [
    "Then we create the GrotrianDiagram object, which we'll use to plot everything."
   ]
  },
  {
   "cell_type": "code",
   "execution_count": 5,
   "id": "0bc4a4c0",
   "metadata": {},
   "outputs": [],
   "source": [
    "plot_obj = GrotrianDiagram(sim)"
   ]
  },
  {
   "cell_type": "markdown",
   "id": "038c94af",
   "metadata": {},
   "source": [
    "The member function generate_plot() can be used to generate a Plotly figure."
   ]
  },
  {
   "cell_type": "code",
   "execution_count": 6,
   "id": "4cd5d866",
   "metadata": {},
   "outputs": [
    {
     "data": {
      "text/html": [
       "        <script type=\"text/javascript\">\n",
       "        window.PlotlyConfig = {MathJaxConfig: 'local'};\n",
       "        if (window.MathJax && window.MathJax.Hub && window.MathJax.Hub.Config) {window.MathJax.Hub.Config({SVG: {font: \"STIX-Web\"}});}\n",
       "        if (typeof require !== 'undefined') {\n",
       "        require.undef(\"plotly\");\n",
       "        requirejs.config({\n",
       "            paths: {\n",
       "                'plotly': ['https://cdn.plot.ly/plotly-2.18.2.min']\n",
       "            }\n",
       "        });\n",
       "        require(['plotly'], function(Plotly) {\n",
       "            window._Plotly = Plotly;\n",
       "        });\n",
       "        }\n",
       "        </script>\n",
       "        "
      ]
     },
     "metadata": {},
     "output_type": "display_data"
    },
    {
     "data": {
      "text/html": [
       "<div>                            <div id=\"cfd86f9a-ad9e-449f-8423-c5fa91ff13b3\" class=\"plotly-graph-div\" style=\"height:816px; width:984px;\"></div>            <script type=\"text/javascript\">                require([\"plotly\"], function(Plotly) {                    window.PLOTLYENV=window.PLOTLYENV || {};                                    if (document.getElementById(\"cfd86f9a-ad9e-449f-8423-c5fa91ff13b3\")) {                    Plotly.newPlot(                        \"cfd86f9a-ad9e-449f-8423-c5fa91ff13b3\",                        [{\"hovertemplate\":\"<b>Velocity</b>: %{x}<br><b>Fraction</b>: %{y}</br>\",\"line\":{\"color\":\"#003865\"},\"mode\":\"markers+lines\",\"name\":\"(14, 0)\",\"showlegend\":true,\"x\":[11000.0,11450.000000000002,11900.000000000002,12350.000000000002,12800.000000000002,13250.000000000002,13700.000000000002,14150.000000000002,14600.000000000002,15050.000000000002,15500.000000000002,15950.000000000002,16400.0,16850.0,17300.0,17750.0,18200.0,18650.0,19100.0,19550.0],\"y\":[4.822841485910205e-13,1.8261400638699897e-13,7.111222268036865e-14,4.4128738243925836e-14,2.2972823466172305e-14,1.398826966550796e-14,1.0770284864933585e-14,8.829105386962821e-15,5.749699018386574e-15,4.7734080369457396e-15,3.485958983153409e-15,2.8157651843091074e-15,2.0853425908556384e-15,1.794170593831379e-15,1.628361547855174e-15,1.4359791719080497e-15,1.1401446768129603e-15,9.4962315093108e-16,1.052525719063215e-15,1.0453137556263697e-15],\"type\":\"scatter\",\"xaxis\":\"x\",\"yaxis\":\"y\"},{\"hovertemplate\":\"<b>Velocity</b>: %{x}<br><b>Fraction</b>: %{y}</br>\",\"line\":{\"color\":\"#005499\"},\"mode\":\"markers+lines\",\"name\":\"(14, 1)\",\"showlegend\":true,\"x\":[11000.0,11450.000000000002,11900.000000000002,12350.000000000002,12800.000000000002,13250.000000000002,13700.000000000002,14150.000000000002,14600.000000000002,15050.000000000002,15500.000000000002,15950.000000000002,16400.0,16850.0,17300.0,17750.0,18200.0,18650.0,19100.0,19550.0],\"y\":[8.632853002222235e-05,4.9419802730102234e-05,2.867827129388865e-05,2.2688614963339566e-05,1.587777332225308e-05,1.231294572907243e-05,1.1175102916629428e-05,1.0556356902799256e-05,8.502007579415048e-06,8.062384773030737e-06,6.989519116334791e-06,6.477178187861493e-06,5.646426643987298e-06,5.441581101612236e-06,5.427165754298993e-06,5.298112967993649e-06,4.810126800912838e-06,4.503934859861451e-06,5.103509315093244e-06,5.360761348193389e-06],\"type\":\"scatter\",\"xaxis\":\"x2\",\"yaxis\":\"y2\"}],                        {\"template\":{\"data\":{\"histogram2dcontour\":[{\"type\":\"histogram2dcontour\",\"colorbar\":{\"outlinewidth\":0,\"ticks\":\"\"},\"colorscale\":[[0.0,\"#0d0887\"],[0.1111111111111111,\"#46039f\"],[0.2222222222222222,\"#7201a8\"],[0.3333333333333333,\"#9c179e\"],[0.4444444444444444,\"#bd3786\"],[0.5555555555555556,\"#d8576b\"],[0.6666666666666666,\"#ed7953\"],[0.7777777777777778,\"#fb9f3a\"],[0.8888888888888888,\"#fdca26\"],[1.0,\"#f0f921\"]]}],\"choropleth\":[{\"type\":\"choropleth\",\"colorbar\":{\"outlinewidth\":0,\"ticks\":\"\"}}],\"histogram2d\":[{\"type\":\"histogram2d\",\"colorbar\":{\"outlinewidth\":0,\"ticks\":\"\"},\"colorscale\":[[0.0,\"#0d0887\"],[0.1111111111111111,\"#46039f\"],[0.2222222222222222,\"#7201a8\"],[0.3333333333333333,\"#9c179e\"],[0.4444444444444444,\"#bd3786\"],[0.5555555555555556,\"#d8576b\"],[0.6666666666666666,\"#ed7953\"],[0.7777777777777778,\"#fb9f3a\"],[0.8888888888888888,\"#fdca26\"],[1.0,\"#f0f921\"]]}],\"heatmap\":[{\"type\":\"heatmap\",\"colorbar\":{\"outlinewidth\":0,\"ticks\":\"\"},\"colorscale\":[[0.0,\"#0d0887\"],[0.1111111111111111,\"#46039f\"],[0.2222222222222222,\"#7201a8\"],[0.3333333333333333,\"#9c179e\"],[0.4444444444444444,\"#bd3786\"],[0.5555555555555556,\"#d8576b\"],[0.6666666666666666,\"#ed7953\"],[0.7777777777777778,\"#fb9f3a\"],[0.8888888888888888,\"#fdca26\"],[1.0,\"#f0f921\"]]}],\"heatmapgl\":[{\"type\":\"heatmapgl\",\"colorbar\":{\"outlinewidth\":0,\"ticks\":\"\"},\"colorscale\":[[0.0,\"#0d0887\"],[0.1111111111111111,\"#46039f\"],[0.2222222222222222,\"#7201a8\"],[0.3333333333333333,\"#9c179e\"],[0.4444444444444444,\"#bd3786\"],[0.5555555555555556,\"#d8576b\"],[0.6666666666666666,\"#ed7953\"],[0.7777777777777778,\"#fb9f3a\"],[0.8888888888888888,\"#fdca26\"],[1.0,\"#f0f921\"]]}],\"contourcarpet\":[{\"type\":\"contourcarpet\",\"colorbar\":{\"outlinewidth\":0,\"ticks\":\"\"}}],\"contour\":[{\"type\":\"contour\",\"colorbar\":{\"outlinewidth\":0,\"ticks\":\"\"},\"colorscale\":[[0.0,\"#0d0887\"],[0.1111111111111111,\"#46039f\"],[0.2222222222222222,\"#7201a8\"],[0.3333333333333333,\"#9c179e\"],[0.4444444444444444,\"#bd3786\"],[0.5555555555555556,\"#d8576b\"],[0.6666666666666666,\"#ed7953\"],[0.7777777777777778,\"#fb9f3a\"],[0.8888888888888888,\"#fdca26\"],[1.0,\"#f0f921\"]]}],\"surface\":[{\"type\":\"surface\",\"colorbar\":{\"outlinewidth\":0,\"ticks\":\"\"},\"colorscale\":[[0.0,\"#0d0887\"],[0.1111111111111111,\"#46039f\"],[0.2222222222222222,\"#7201a8\"],[0.3333333333333333,\"#9c179e\"],[0.4444444444444444,\"#bd3786\"],[0.5555555555555556,\"#d8576b\"],[0.6666666666666666,\"#ed7953\"],[0.7777777777777778,\"#fb9f3a\"],[0.8888888888888888,\"#fdca26\"],[1.0,\"#f0f921\"]]}],\"mesh3d\":[{\"type\":\"mesh3d\",\"colorbar\":{\"outlinewidth\":0,\"ticks\":\"\"}}],\"scatter\":[{\"fillpattern\":{\"fillmode\":\"overlay\",\"size\":10,\"solidity\":0.2},\"type\":\"scatter\"}],\"parcoords\":[{\"type\":\"parcoords\",\"line\":{\"colorbar\":{\"outlinewidth\":0,\"ticks\":\"\"}}}],\"scatterpolargl\":[{\"type\":\"scatterpolargl\",\"marker\":{\"colorbar\":{\"outlinewidth\":0,\"ticks\":\"\"}}}],\"bar\":[{\"error_x\":{\"color\":\"#2a3f5f\"},\"error_y\":{\"color\":\"#2a3f5f\"},\"marker\":{\"line\":{\"color\":\"#E5ECF6\",\"width\":0.5},\"pattern\":{\"fillmode\":\"overlay\",\"size\":10,\"solidity\":0.2}},\"type\":\"bar\"}],\"scattergeo\":[{\"type\":\"scattergeo\",\"marker\":{\"colorbar\":{\"outlinewidth\":0,\"ticks\":\"\"}}}],\"scatterpolar\":[{\"type\":\"scatterpolar\",\"marker\":{\"colorbar\":{\"outlinewidth\":0,\"ticks\":\"\"}}}],\"histogram\":[{\"marker\":{\"pattern\":{\"fillmode\":\"overlay\",\"size\":10,\"solidity\":0.2}},\"type\":\"histogram\"}],\"scattergl\":[{\"type\":\"scattergl\",\"marker\":{\"colorbar\":{\"outlinewidth\":0,\"ticks\":\"\"}}}],\"scatter3d\":[{\"type\":\"scatter3d\",\"line\":{\"colorbar\":{\"outlinewidth\":0,\"ticks\":\"\"}},\"marker\":{\"colorbar\":{\"outlinewidth\":0,\"ticks\":\"\"}}}],\"scattermapbox\":[{\"type\":\"scattermapbox\",\"marker\":{\"colorbar\":{\"outlinewidth\":0,\"ticks\":\"\"}}}],\"scatterternary\":[{\"type\":\"scatterternary\",\"marker\":{\"colorbar\":{\"outlinewidth\":0,\"ticks\":\"\"}}}],\"scattercarpet\":[{\"type\":\"scattercarpet\",\"marker\":{\"colorbar\":{\"outlinewidth\":0,\"ticks\":\"\"}}}],\"carpet\":[{\"aaxis\":{\"endlinecolor\":\"#2a3f5f\",\"gridcolor\":\"white\",\"linecolor\":\"white\",\"minorgridcolor\":\"white\",\"startlinecolor\":\"#2a3f5f\"},\"baxis\":{\"endlinecolor\":\"#2a3f5f\",\"gridcolor\":\"white\",\"linecolor\":\"white\",\"minorgridcolor\":\"white\",\"startlinecolor\":\"#2a3f5f\"},\"type\":\"carpet\"}],\"table\":[{\"cells\":{\"fill\":{\"color\":\"#EBF0F8\"},\"line\":{\"color\":\"white\"}},\"header\":{\"fill\":{\"color\":\"#C8D4E3\"},\"line\":{\"color\":\"white\"}},\"type\":\"table\"}],\"barpolar\":[{\"marker\":{\"line\":{\"color\":\"#E5ECF6\",\"width\":0.5},\"pattern\":{\"fillmode\":\"overlay\",\"size\":10,\"solidity\":0.2}},\"type\":\"barpolar\"}],\"pie\":[{\"automargin\":true,\"type\":\"pie\"}]},\"layout\":{\"autotypenumbers\":\"strict\",\"colorway\":[\"#636efa\",\"#EF553B\",\"#00cc96\",\"#ab63fa\",\"#FFA15A\",\"#19d3f3\",\"#FF6692\",\"#B6E880\",\"#FF97FF\",\"#FECB52\"],\"font\":{\"color\":\"#2a3f5f\"},\"hovermode\":\"closest\",\"hoverlabel\":{\"align\":\"left\"},\"paper_bgcolor\":\"white\",\"plot_bgcolor\":\"#E5ECF6\",\"polar\":{\"bgcolor\":\"#E5ECF6\",\"angularaxis\":{\"gridcolor\":\"white\",\"linecolor\":\"white\",\"ticks\":\"\"},\"radialaxis\":{\"gridcolor\":\"white\",\"linecolor\":\"white\",\"ticks\":\"\"}},\"ternary\":{\"bgcolor\":\"#E5ECF6\",\"aaxis\":{\"gridcolor\":\"white\",\"linecolor\":\"white\",\"ticks\":\"\"},\"baxis\":{\"gridcolor\":\"white\",\"linecolor\":\"white\",\"ticks\":\"\"},\"caxis\":{\"gridcolor\":\"white\",\"linecolor\":\"white\",\"ticks\":\"\"}},\"coloraxis\":{\"colorbar\":{\"outlinewidth\":0,\"ticks\":\"\"}},\"colorscale\":{\"sequential\":[[0.0,\"#0d0887\"],[0.1111111111111111,\"#46039f\"],[0.2222222222222222,\"#7201a8\"],[0.3333333333333333,\"#9c179e\"],[0.4444444444444444,\"#bd3786\"],[0.5555555555555556,\"#d8576b\"],[0.6666666666666666,\"#ed7953\"],[0.7777777777777778,\"#fb9f3a\"],[0.8888888888888888,\"#fdca26\"],[1.0,\"#f0f921\"]],\"sequentialminus\":[[0.0,\"#0d0887\"],[0.1111111111111111,\"#46039f\"],[0.2222222222222222,\"#7201a8\"],[0.3333333333333333,\"#9c179e\"],[0.4444444444444444,\"#bd3786\"],[0.5555555555555556,\"#d8576b\"],[0.6666666666666666,\"#ed7953\"],[0.7777777777777778,\"#fb9f3a\"],[0.8888888888888888,\"#fdca26\"],[1.0,\"#f0f921\"]],\"diverging\":[[0,\"#8e0152\"],[0.1,\"#c51b7d\"],[0.2,\"#de77ae\"],[0.3,\"#f1b6da\"],[0.4,\"#fde0ef\"],[0.5,\"#f7f7f7\"],[0.6,\"#e6f5d0\"],[0.7,\"#b8e186\"],[0.8,\"#7fbc41\"],[0.9,\"#4d9221\"],[1,\"#276419\"]]},\"xaxis\":{\"gridcolor\":\"white\",\"linecolor\":\"white\",\"ticks\":\"\",\"title\":{\"standoff\":15},\"zerolinecolor\":\"white\",\"automargin\":true,\"zerolinewidth\":2},\"yaxis\":{\"gridcolor\":\"white\",\"linecolor\":\"white\",\"ticks\":\"\",\"title\":{\"standoff\":15},\"zerolinecolor\":\"white\",\"automargin\":true,\"zerolinewidth\":2},\"scene\":{\"xaxis\":{\"backgroundcolor\":\"#E5ECF6\",\"gridcolor\":\"white\",\"linecolor\":\"white\",\"showbackground\":true,\"ticks\":\"\",\"zerolinecolor\":\"white\",\"gridwidth\":2},\"yaxis\":{\"backgroundcolor\":\"#E5ECF6\",\"gridcolor\":\"white\",\"linecolor\":\"white\",\"showbackground\":true,\"ticks\":\"\",\"zerolinecolor\":\"white\",\"gridwidth\":2},\"zaxis\":{\"backgroundcolor\":\"#E5ECF6\",\"gridcolor\":\"white\",\"linecolor\":\"white\",\"showbackground\":true,\"ticks\":\"\",\"zerolinecolor\":\"white\",\"gridwidth\":2}},\"shapedefaults\":{\"line\":{\"color\":\"#2a3f5f\"}},\"annotationdefaults\":{\"arrowcolor\":\"#2a3f5f\",\"arrowhead\":0,\"arrowwidth\":1},\"geo\":{\"bgcolor\":\"white\",\"landcolor\":\"#E5ECF6\",\"subunitcolor\":\"white\",\"showland\":true,\"showlakes\":true,\"lakecolor\":\"white\"},\"title\":{\"x\":0.05},\"mapbox\":{\"style\":\"light\"}}},\"xaxis\":{\"anchor\":\"y\",\"domain\":[0.0,1.0],\"title\":{\"text\":\"Velocity (km/s)\"},\"exponentformat\":\"none\",\"color\":\"#000\",\"linecolor\":\"#555\",\"gridcolor\":\"#e6e6e6\",\"zerolinecolor\":\"#fafafa\",\"tickangle\":0,\"showgrid\":false},\"yaxis\":{\"anchor\":\"x\",\"domain\":[0.575,1.0],\"title\":{\"text\":\"Ion fraction (unitless)\"},\"exponentformat\":\"none\",\"color\":\"#000\",\"linecolor\":\"#555\",\"gridcolor\":\"#e6e6e6\",\"zerolinecolor\":\"#fafafa\",\"tickformat\":\".3e\",\"tickangle\":0,\"showgrid\":false},\"xaxis2\":{\"anchor\":\"y2\",\"domain\":[0.0,1.0],\"title\":{\"text\":\"Velocity (km/s)\"},\"exponentformat\":\"none\",\"color\":\"#000\",\"linecolor\":\"#555\",\"gridcolor\":\"#e6e6e6\",\"zerolinecolor\":\"#fafafa\",\"tickangle\":0,\"showgrid\":false},\"yaxis2\":{\"anchor\":\"x2\",\"domain\":[0.0,0.425],\"title\":{\"text\":\"Ion fraction (unitless)\"},\"exponentformat\":\"none\",\"color\":\"#000\",\"linecolor\":\"#555\",\"gridcolor\":\"#e6e6e6\",\"zerolinecolor\":\"#fafafa\",\"tickformat\":\".3e\",\"tickangle\":0,\"showgrid\":false},\"plot_bgcolor\":\"#fafafa\",\"paper_bgcolor\":\"#fafafa\",\"title\":{\"font\":{\"size\":26,\"color\":\"#444\"},\"text\":\"<b>Ionized elements fractions vs. Velocity</b>\",\"x\":0.5,\"y\":0.95},\"legend\":{\"title\":{\"text\":\"<b>(Z, C)</b>\"},\"font\":{\"size\":16},\"tracegroupgap\":418},\"font\":{\"color\":\"#000\"},\"width\":984,\"height\":816},                        {\"responsive\": true}                    ).then(function(){\n",
       "                            \n",
       "var gd = document.getElementById('cfd86f9a-ad9e-449f-8423-c5fa91ff13b3');\n",
       "var x = new MutationObserver(function (mutations, observer) {{\n",
       "        var display = window.getComputedStyle(gd).display;\n",
       "        if (!display || display === 'none') {{\n",
       "            console.log([gd, 'removed!']);\n",
       "            Plotly.purge(gd);\n",
       "            observer.disconnect();\n",
       "        }}\n",
       "}});\n",
       "\n",
       "// Listen for the removal of the full notebook cells\n",
       "var notebookContainer = gd.closest('#notebook-container');\n",
       "if (notebookContainer) {{\n",
       "    x.observe(notebookContainer, {childList: true});\n",
       "}}\n",
       "\n",
       "// Listen for the clearing of the current output cell\n",
       "var outputEl = gd.closest('.output');\n",
       "if (outputEl) {{\n",
       "    x.observe(outputEl, {childList: true});\n",
       "}}\n",
       "\n",
       "                        })                };                });            </script>        </div>"
      ]
     },
     "metadata": {},
     "output_type": "display_data"
    }
   ],
   "source": [
    "figure1 = plot_obj.generate_plot()\n",
    "figure1.show(renderer=\"notebook_connected\")"
   ]
  },
  {
   "cell_type": "markdown",
   "id": "e41b230b",
   "metadata": {},
   "source": [
    "### generate_plot() parameters:\n",
    "    * theme: can be \"light\" or \"dark  \n",
    "        default value: \"light\"  \n",
    "    * atomic_number: an integer, the atomic number of the element whose ionization fractions we wish to plot  \n",
    "        default value: 14   \n",
    "    * ions: a list of integers, denoting ionization numbers for the plots we need. Note that 0 means neutral.  \n",
    "        default value: [0, 1]\n",
    "    * separate_subplots: a boolean, whether we want to have all graphs on same plot   \n",
    "                         or have multiple dedicated subplots.  \n",
    "        default value: True  \n",
    "    * grid_on: boolean, whether to show the gridlines or not.  \n",
    "        default value: False  "
   ]
  },
  {
   "cell_type": "code",
   "execution_count": 7,
   "id": "4a454e13",
   "metadata": {},
   "outputs": [
    {
     "data": {
      "text/html": [
       "        <script type=\"text/javascript\">\n",
       "        window.PlotlyConfig = {MathJaxConfig: 'local'};\n",
       "        if (window.MathJax && window.MathJax.Hub && window.MathJax.Hub.Config) {window.MathJax.Hub.Config({SVG: {font: \"STIX-Web\"}});}\n",
       "        if (typeof require !== 'undefined') {\n",
       "        require.undef(\"plotly\");\n",
       "        requirejs.config({\n",
       "            paths: {\n",
       "                'plotly': ['https://cdn.plot.ly/plotly-2.18.2.min']\n",
       "            }\n",
       "        });\n",
       "        require(['plotly'], function(Plotly) {\n",
       "            window._Plotly = Plotly;\n",
       "        });\n",
       "        }\n",
       "        </script>\n",
       "        "
      ]
     },
     "metadata": {},
     "output_type": "display_data"
    },
    {
     "data": {
      "text/html": [
       "<div>                            <div id=\"b7e6bfa1-97b0-472e-bb1e-e1d4f4f351cf\" class=\"plotly-graph-div\" style=\"height:408px; width:984px;\"></div>            <script type=\"text/javascript\">                require([\"plotly\"], function(Plotly) {                    window.PLOTLYENV=window.PLOTLYENV || {};                                    if (document.getElementById(\"b7e6bfa1-97b0-472e-bb1e-e1d4f4f351cf\")) {                    Plotly.newPlot(                        \"b7e6bfa1-97b0-472e-bb1e-e1d4f4f351cf\",                        [{\"hovertemplate\":\"<b>Velocity</b>: %{x}<br><b>Fraction</b>: %{y}</br>\",\"line\":{\"color\":\"#003865\"},\"mode\":\"markers+lines\",\"name\":\"(14, 0)\",\"showlegend\":true,\"x\":[11000.0,11450.000000000002,11900.000000000002,12350.000000000002,12800.000000000002,13250.000000000002,13700.000000000002,14150.000000000002,14600.000000000002,15050.000000000002,15500.000000000002,15950.000000000002,16400.0,16850.0,17300.0,17750.0,18200.0,18650.0,19100.0,19550.0],\"y\":[4.822841485910205e-13,1.8261400638699897e-13,7.111222268036865e-14,4.4128738243925836e-14,2.2972823466172305e-14,1.398826966550796e-14,1.0770284864933585e-14,8.829105386962821e-15,5.749699018386574e-15,4.7734080369457396e-15,3.485958983153409e-15,2.8157651843091074e-15,2.0853425908556384e-15,1.794170593831379e-15,1.628361547855174e-15,1.4359791719080497e-15,1.1401446768129603e-15,9.4962315093108e-16,1.052525719063215e-15,1.0453137556263697e-15],\"type\":\"scatter\",\"xaxis\":\"x\",\"yaxis\":\"y\"},{\"hovertemplate\":\"<b>Velocity</b>: %{x}<br><b>Fraction</b>: %{y}</br>\",\"line\":{\"color\":\"#005499\"},\"mode\":\"markers+lines\",\"name\":\"(14, 1)\",\"showlegend\":true,\"x\":[11000.0,11450.000000000002,11900.000000000002,12350.000000000002,12800.000000000002,13250.000000000002,13700.000000000002,14150.000000000002,14600.000000000002,15050.000000000002,15500.000000000002,15950.000000000002,16400.0,16850.0,17300.0,17750.0,18200.0,18650.0,19100.0,19550.0],\"y\":[8.632853002222235e-05,4.9419802730102234e-05,2.867827129388865e-05,2.2688614963339566e-05,1.587777332225308e-05,1.231294572907243e-05,1.1175102916629428e-05,1.0556356902799256e-05,8.502007579415048e-06,8.062384773030737e-06,6.989519116334791e-06,6.477178187861493e-06,5.646426643987298e-06,5.441581101612236e-06,5.427165754298993e-06,5.298112967993649e-06,4.810126800912838e-06,4.503934859861451e-06,5.103509315093244e-06,5.360761348193389e-06],\"type\":\"scatter\",\"xaxis\":\"x\",\"yaxis\":\"y\"},{\"hovertemplate\":\"<b>Velocity</b>: %{x}<br><b>Fraction</b>: %{y}</br>\",\"line\":{\"color\":\"#0071cc\"},\"mode\":\"markers+lines\",\"name\":\"(14, 2)\",\"showlegend\":true,\"x\":[11000.0,11450.000000000002,11900.000000000002,12350.000000000002,12800.000000000002,13250.000000000002,13700.000000000002,14150.000000000002,14600.000000000002,15050.000000000002,15500.000000000002,15950.000000000002,16400.0,16850.0,17300.0,17750.0,18200.0,18650.0,19100.0,19550.0],\"y\":[0.9978756811849963,0.9952955445049758,0.9896138248843954,0.98721953033499,0.9800777115636975,0.9743025641159361,0.9750289743732905,0.9773149099838246,0.9722012681155894,0.9746092273469189,0.9725214577120966,0.9735446802947413,0.971380887754069,0.9741103337073916,0.9779413839737332,0.9803870397051757,0.9799584836980081,0.9805940029293577,0.9868468732709965,0.9897094529150281],\"type\":\"scatter\",\"xaxis\":\"x\",\"yaxis\":\"y\"},{\"hovertemplate\":\"<b>Velocity</b>: %{x}<br><b>Fraction</b>: %{y}</br>\",\"line\":{\"color\":\"#008dff\"},\"mode\":\"markers+lines\",\"name\":\"(14, 3)\",\"showlegend\":true,\"x\":[11000.0,11450.000000000002,11900.000000000002,12350.000000000002,12800.000000000002,13250.000000000002,13700.000000000002,14150.000000000002,14600.000000000002,15050.000000000002,15500.000000000002,15950.000000000002,16400.0,16850.0,17300.0,17750.0,18200.0,18650.0,19100.0,19550.0],\"y\":[0.0020379902793667953,0.0046550356597399815,0.010357496650698246,0.01275778075985875,0.019906409899612364,0.025685121648989007,0.024959849408687586,0.02267453283520183,0.027790228634588823,0.025382709334612858,0.027471551716446736,0.026448841627127795,0.02861346480206008,0.025884223958663292,0.022053188376123786,0.019607661836306856,0.020036705832017734,0.01940149283531381,0.013148023106181538,0.010285186263289954],\"type\":\"scatter\",\"xaxis\":\"x\",\"yaxis\":\"y\"},{\"hovertemplate\":\"<b>Velocity</b>: %{x}<br><b>Fraction</b>: %{y}</br>\",\"line\":{\"color\":\"#33a4ff\"},\"mode\":\"markers+lines\",\"name\":\"(14, 4)\",\"showlegend\":true,\"x\":[11000.0,11450.000000000002,11900.000000000002,12350.000000000002,12800.000000000002,13250.000000000002,13700.000000000002,14150.000000000002,14600.000000000002,15050.000000000002,15500.000000000002,15950.000000000002,16400.0,16850.0,17300.0,17750.0,18200.0,18650.0,19100.0,19550.0],\"y\":[5.1324563162781386e-12,3.2371482311570764e-11,1.9354138454305e-10,2.901438671737225e-10,7.633448252226887e-10,1.2893318953405285e-09,1.1150946588813344e-09,8.240618290551445e-10,1.2422365630028875e-09,9.336903652124888e-10,1.0523367770781971e-09,8.999402764511199e-10,1.0172250028047603e-09,7.52841664456432e-10,4.843870742477731e-10,3.455479177137093e-10,3.431721016245902e-10,3.0046770111019336e-10,1.1350551547481437e-10,6.033266899061387e-11],\"type\":\"scatter\",\"xaxis\":\"x\",\"yaxis\":\"y\"}],                        {\"template\":{\"data\":{\"histogram2dcontour\":[{\"type\":\"histogram2dcontour\",\"colorbar\":{\"outlinewidth\":0,\"ticks\":\"\"},\"colorscale\":[[0.0,\"#0d0887\"],[0.1111111111111111,\"#46039f\"],[0.2222222222222222,\"#7201a8\"],[0.3333333333333333,\"#9c179e\"],[0.4444444444444444,\"#bd3786\"],[0.5555555555555556,\"#d8576b\"],[0.6666666666666666,\"#ed7953\"],[0.7777777777777778,\"#fb9f3a\"],[0.8888888888888888,\"#fdca26\"],[1.0,\"#f0f921\"]]}],\"choropleth\":[{\"type\":\"choropleth\",\"colorbar\":{\"outlinewidth\":0,\"ticks\":\"\"}}],\"histogram2d\":[{\"type\":\"histogram2d\",\"colorbar\":{\"outlinewidth\":0,\"ticks\":\"\"},\"colorscale\":[[0.0,\"#0d0887\"],[0.1111111111111111,\"#46039f\"],[0.2222222222222222,\"#7201a8\"],[0.3333333333333333,\"#9c179e\"],[0.4444444444444444,\"#bd3786\"],[0.5555555555555556,\"#d8576b\"],[0.6666666666666666,\"#ed7953\"],[0.7777777777777778,\"#fb9f3a\"],[0.8888888888888888,\"#fdca26\"],[1.0,\"#f0f921\"]]}],\"heatmap\":[{\"type\":\"heatmap\",\"colorbar\":{\"outlinewidth\":0,\"ticks\":\"\"},\"colorscale\":[[0.0,\"#0d0887\"],[0.1111111111111111,\"#46039f\"],[0.2222222222222222,\"#7201a8\"],[0.3333333333333333,\"#9c179e\"],[0.4444444444444444,\"#bd3786\"],[0.5555555555555556,\"#d8576b\"],[0.6666666666666666,\"#ed7953\"],[0.7777777777777778,\"#fb9f3a\"],[0.8888888888888888,\"#fdca26\"],[1.0,\"#f0f921\"]]}],\"heatmapgl\":[{\"type\":\"heatmapgl\",\"colorbar\":{\"outlinewidth\":0,\"ticks\":\"\"},\"colorscale\":[[0.0,\"#0d0887\"],[0.1111111111111111,\"#46039f\"],[0.2222222222222222,\"#7201a8\"],[0.3333333333333333,\"#9c179e\"],[0.4444444444444444,\"#bd3786\"],[0.5555555555555556,\"#d8576b\"],[0.6666666666666666,\"#ed7953\"],[0.7777777777777778,\"#fb9f3a\"],[0.8888888888888888,\"#fdca26\"],[1.0,\"#f0f921\"]]}],\"contourcarpet\":[{\"type\":\"contourcarpet\",\"colorbar\":{\"outlinewidth\":0,\"ticks\":\"\"}}],\"contour\":[{\"type\":\"contour\",\"colorbar\":{\"outlinewidth\":0,\"ticks\":\"\"},\"colorscale\":[[0.0,\"#0d0887\"],[0.1111111111111111,\"#46039f\"],[0.2222222222222222,\"#7201a8\"],[0.3333333333333333,\"#9c179e\"],[0.4444444444444444,\"#bd3786\"],[0.5555555555555556,\"#d8576b\"],[0.6666666666666666,\"#ed7953\"],[0.7777777777777778,\"#fb9f3a\"],[0.8888888888888888,\"#fdca26\"],[1.0,\"#f0f921\"]]}],\"surface\":[{\"type\":\"surface\",\"colorbar\":{\"outlinewidth\":0,\"ticks\":\"\"},\"colorscale\":[[0.0,\"#0d0887\"],[0.1111111111111111,\"#46039f\"],[0.2222222222222222,\"#7201a8\"],[0.3333333333333333,\"#9c179e\"],[0.4444444444444444,\"#bd3786\"],[0.5555555555555556,\"#d8576b\"],[0.6666666666666666,\"#ed7953\"],[0.7777777777777778,\"#fb9f3a\"],[0.8888888888888888,\"#fdca26\"],[1.0,\"#f0f921\"]]}],\"mesh3d\":[{\"type\":\"mesh3d\",\"colorbar\":{\"outlinewidth\":0,\"ticks\":\"\"}}],\"scatter\":[{\"fillpattern\":{\"fillmode\":\"overlay\",\"size\":10,\"solidity\":0.2},\"type\":\"scatter\"}],\"parcoords\":[{\"type\":\"parcoords\",\"line\":{\"colorbar\":{\"outlinewidth\":0,\"ticks\":\"\"}}}],\"scatterpolargl\":[{\"type\":\"scatterpolargl\",\"marker\":{\"colorbar\":{\"outlinewidth\":0,\"ticks\":\"\"}}}],\"bar\":[{\"error_x\":{\"color\":\"#2a3f5f\"},\"error_y\":{\"color\":\"#2a3f5f\"},\"marker\":{\"line\":{\"color\":\"#E5ECF6\",\"width\":0.5},\"pattern\":{\"fillmode\":\"overlay\",\"size\":10,\"solidity\":0.2}},\"type\":\"bar\"}],\"scattergeo\":[{\"type\":\"scattergeo\",\"marker\":{\"colorbar\":{\"outlinewidth\":0,\"ticks\":\"\"}}}],\"scatterpolar\":[{\"type\":\"scatterpolar\",\"marker\":{\"colorbar\":{\"outlinewidth\":0,\"ticks\":\"\"}}}],\"histogram\":[{\"marker\":{\"pattern\":{\"fillmode\":\"overlay\",\"size\":10,\"solidity\":0.2}},\"type\":\"histogram\"}],\"scattergl\":[{\"type\":\"scattergl\",\"marker\":{\"colorbar\":{\"outlinewidth\":0,\"ticks\":\"\"}}}],\"scatter3d\":[{\"type\":\"scatter3d\",\"line\":{\"colorbar\":{\"outlinewidth\":0,\"ticks\":\"\"}},\"marker\":{\"colorbar\":{\"outlinewidth\":0,\"ticks\":\"\"}}}],\"scattermapbox\":[{\"type\":\"scattermapbox\",\"marker\":{\"colorbar\":{\"outlinewidth\":0,\"ticks\":\"\"}}}],\"scatterternary\":[{\"type\":\"scatterternary\",\"marker\":{\"colorbar\":{\"outlinewidth\":0,\"ticks\":\"\"}}}],\"scattercarpet\":[{\"type\":\"scattercarpet\",\"marker\":{\"colorbar\":{\"outlinewidth\":0,\"ticks\":\"\"}}}],\"carpet\":[{\"aaxis\":{\"endlinecolor\":\"#2a3f5f\",\"gridcolor\":\"white\",\"linecolor\":\"white\",\"minorgridcolor\":\"white\",\"startlinecolor\":\"#2a3f5f\"},\"baxis\":{\"endlinecolor\":\"#2a3f5f\",\"gridcolor\":\"white\",\"linecolor\":\"white\",\"minorgridcolor\":\"white\",\"startlinecolor\":\"#2a3f5f\"},\"type\":\"carpet\"}],\"table\":[{\"cells\":{\"fill\":{\"color\":\"#EBF0F8\"},\"line\":{\"color\":\"white\"}},\"header\":{\"fill\":{\"color\":\"#C8D4E3\"},\"line\":{\"color\":\"white\"}},\"type\":\"table\"}],\"barpolar\":[{\"marker\":{\"line\":{\"color\":\"#E5ECF6\",\"width\":0.5},\"pattern\":{\"fillmode\":\"overlay\",\"size\":10,\"solidity\":0.2}},\"type\":\"barpolar\"}],\"pie\":[{\"automargin\":true,\"type\":\"pie\"}]},\"layout\":{\"autotypenumbers\":\"strict\",\"colorway\":[\"#636efa\",\"#EF553B\",\"#00cc96\",\"#ab63fa\",\"#FFA15A\",\"#19d3f3\",\"#FF6692\",\"#B6E880\",\"#FF97FF\",\"#FECB52\"],\"font\":{\"color\":\"#2a3f5f\"},\"hovermode\":\"closest\",\"hoverlabel\":{\"align\":\"left\"},\"paper_bgcolor\":\"white\",\"plot_bgcolor\":\"#E5ECF6\",\"polar\":{\"bgcolor\":\"#E5ECF6\",\"angularaxis\":{\"gridcolor\":\"white\",\"linecolor\":\"white\",\"ticks\":\"\"},\"radialaxis\":{\"gridcolor\":\"white\",\"linecolor\":\"white\",\"ticks\":\"\"}},\"ternary\":{\"bgcolor\":\"#E5ECF6\",\"aaxis\":{\"gridcolor\":\"white\",\"linecolor\":\"white\",\"ticks\":\"\"},\"baxis\":{\"gridcolor\":\"white\",\"linecolor\":\"white\",\"ticks\":\"\"},\"caxis\":{\"gridcolor\":\"white\",\"linecolor\":\"white\",\"ticks\":\"\"}},\"coloraxis\":{\"colorbar\":{\"outlinewidth\":0,\"ticks\":\"\"}},\"colorscale\":{\"sequential\":[[0.0,\"#0d0887\"],[0.1111111111111111,\"#46039f\"],[0.2222222222222222,\"#7201a8\"],[0.3333333333333333,\"#9c179e\"],[0.4444444444444444,\"#bd3786\"],[0.5555555555555556,\"#d8576b\"],[0.6666666666666666,\"#ed7953\"],[0.7777777777777778,\"#fb9f3a\"],[0.8888888888888888,\"#fdca26\"],[1.0,\"#f0f921\"]],\"sequentialminus\":[[0.0,\"#0d0887\"],[0.1111111111111111,\"#46039f\"],[0.2222222222222222,\"#7201a8\"],[0.3333333333333333,\"#9c179e\"],[0.4444444444444444,\"#bd3786\"],[0.5555555555555556,\"#d8576b\"],[0.6666666666666666,\"#ed7953\"],[0.7777777777777778,\"#fb9f3a\"],[0.8888888888888888,\"#fdca26\"],[1.0,\"#f0f921\"]],\"diverging\":[[0,\"#8e0152\"],[0.1,\"#c51b7d\"],[0.2,\"#de77ae\"],[0.3,\"#f1b6da\"],[0.4,\"#fde0ef\"],[0.5,\"#f7f7f7\"],[0.6,\"#e6f5d0\"],[0.7,\"#b8e186\"],[0.8,\"#7fbc41\"],[0.9,\"#4d9221\"],[1,\"#276419\"]]},\"xaxis\":{\"gridcolor\":\"white\",\"linecolor\":\"white\",\"ticks\":\"\",\"title\":{\"standoff\":15},\"zerolinecolor\":\"white\",\"automargin\":true,\"zerolinewidth\":2},\"yaxis\":{\"gridcolor\":\"white\",\"linecolor\":\"white\",\"ticks\":\"\",\"title\":{\"standoff\":15},\"zerolinecolor\":\"white\",\"automargin\":true,\"zerolinewidth\":2},\"scene\":{\"xaxis\":{\"backgroundcolor\":\"#E5ECF6\",\"gridcolor\":\"white\",\"linecolor\":\"white\",\"showbackground\":true,\"ticks\":\"\",\"zerolinecolor\":\"white\",\"gridwidth\":2},\"yaxis\":{\"backgroundcolor\":\"#E5ECF6\",\"gridcolor\":\"white\",\"linecolor\":\"white\",\"showbackground\":true,\"ticks\":\"\",\"zerolinecolor\":\"white\",\"gridwidth\":2},\"zaxis\":{\"backgroundcolor\":\"#E5ECF6\",\"gridcolor\":\"white\",\"linecolor\":\"white\",\"showbackground\":true,\"ticks\":\"\",\"zerolinecolor\":\"white\",\"gridwidth\":2}},\"shapedefaults\":{\"line\":{\"color\":\"#2a3f5f\"}},\"annotationdefaults\":{\"arrowcolor\":\"#2a3f5f\",\"arrowhead\":0,\"arrowwidth\":1},\"geo\":{\"bgcolor\":\"white\",\"landcolor\":\"#E5ECF6\",\"subunitcolor\":\"white\",\"showland\":true,\"showlakes\":true,\"lakecolor\":\"white\"},\"title\":{\"x\":0.05},\"mapbox\":{\"style\":\"light\"}}},\"xaxis\":{\"anchor\":\"y\",\"domain\":[0.0,1.0],\"title\":{\"text\":\"Velocity (km/s)\"},\"exponentformat\":\"none\",\"color\":\"#fafafa\",\"linecolor\":\"#050505\",\"gridcolor\":\"#262626\",\"zerolinecolor\":\"#000\",\"tickangle\":0,\"showgrid\":true},\"yaxis\":{\"anchor\":\"x\",\"domain\":[0.0,1.0],\"title\":{\"text\":\"Ion fraction (unitless)\"},\"exponentformat\":\"none\",\"color\":\"#fafafa\",\"linecolor\":\"#050505\",\"gridcolor\":\"#262626\",\"zerolinecolor\":\"#000\",\"tickformat\":\".3e\",\"tickangle\":0,\"showgrid\":true},\"hovermode\":\"x\",\"plot_bgcolor\":\"#000\",\"paper_bgcolor\":\"#000\",\"title\":{\"font\":{\"size\":26,\"color\":\"#ccc\"},\"text\":\"<b>Ionized elements fractions vs. Velocity</b>\",\"x\":0.5,\"y\":0.95},\"legend\":{\"title\":{\"text\":\"<b>(Z, C)</b>\"},\"font\":{\"size\":16},\"tracegroupgap\":10},\"font\":{\"color\":\"#fafafa\"},\"width\":984,\"height\":408},                        {\"responsive\": true}                    ).then(function(){\n",
       "                            \n",
       "var gd = document.getElementById('b7e6bfa1-97b0-472e-bb1e-e1d4f4f351cf');\n",
       "var x = new MutationObserver(function (mutations, observer) {{\n",
       "        var display = window.getComputedStyle(gd).display;\n",
       "        if (!display || display === 'none') {{\n",
       "            console.log([gd, 'removed!']);\n",
       "            Plotly.purge(gd);\n",
       "            observer.disconnect();\n",
       "        }}\n",
       "}});\n",
       "\n",
       "// Listen for the removal of the full notebook cells\n",
       "var notebookContainer = gd.closest('#notebook-container');\n",
       "if (notebookContainer) {{\n",
       "    x.observe(notebookContainer, {childList: true});\n",
       "}}\n",
       "\n",
       "// Listen for the clearing of the current output cell\n",
       "var outputEl = gd.closest('.output');\n",
       "if (outputEl) {{\n",
       "    x.observe(outputEl, {childList: true});\n",
       "}}\n",
       "\n",
       "                        })                };                });            </script>        </div>"
      ]
     },
     "metadata": {},
     "output_type": "display_data"
    }
   ],
   "source": [
    "figure2 = plot_obj.generate_plot(theme=\"dark\", ions=[0, 1, 2, 3, 4], separate_subplots=False, grid_on=True)\n",
    "figure2.show(renderer=\"notebook_connected\")"
   ]
  },
  {
   "cell_type": "code",
   "execution_count": null,
   "id": "93526a57",
   "metadata": {},
   "outputs": [],
   "source": []
  }
 ],
 "metadata": {
  "kernelspec": {
   "display_name": "Python 3 (ipykernel)",
   "language": "python",
   "name": "python3"
  },
  "language_info": {
   "codemirror_mode": {
    "name": "ipython",
    "version": 3
   },
   "file_extension": ".py",
   "mimetype": "text/x-python",
   "name": "python",
   "nbconvert_exporter": "python",
   "pygments_lexer": "ipython3",
   "version": "3.8.16"
  }
 },
 "nbformat": 4,
 "nbformat_minor": 5
}
